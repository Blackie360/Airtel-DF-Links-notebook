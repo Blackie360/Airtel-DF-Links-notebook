{
 "cells": [
  {
   "cell_type": "code",
   "execution_count": 2,
   "id": "96ebe556",
   "metadata": {},
   "outputs": [
    {
     "name": "stdout",
     "output_type": "stream",
     "text": [
      "March 2025 messages: 3205 saved to march_2025_chats.csv\n",
      "April 2025 messages: 3664 saved to april_2025_chats.csv\n",
      "May 2025 messages: 1054 saved to may_2025_chats.csv\n",
      "Total messages: 30303\n",
      "Total 2025 messages: 13656\n"
     ]
    }
   ],
   "source": [
    "import pandas as pd\n",
    "import re\n",
    "import matplotlib.pyplot as plt\n",
    "from IPython.display import display, Markdown\n",
    "\n",
    "import google.generativeai as genai\n",
    "\n",
    "# Parse WhatsApp chat file\n",
    "def parse_whatsapp_chat(file_path):\n",
    "\t# Pattern to match WhatsApp message format: DD/MM/YYYY, HH:MM - Sender: Message\n",
    "\tpattern = re.compile(r'^(\\d{1,2}/\\d{1,2}/\\d{4}), (\\d{1,2}:\\d{2}) - ([^:]+): (.+)$', re.MULTILINE)\n",
    "\t\n",
    "\tmessages = []\n",
    "\twith open(file_path, 'r', encoding='utf-8') as file:\n",
    "\t\tcontent = file.read()\n",
    "\t\tfor match in pattern.finditer(content):\n",
    "\t\t\tdate, time, sender, message = match.groups()\n",
    "\t\t\tmessages.append({\n",
    "\t\t\t\t'date': date,\n",
    "\t\t\t\t'time': time,\n",
    "\t\t\t\t'sender': sender.strip(),\n",
    "\t\t\t\t'message': message\n",
    "\t\t\t})\n",
    "\t\n",
    "\t# Convert to DataFrame\n",
    "\tdf = pd.DataFrame(messages)\n",
    "\t\n",
    "\t# Convert date and time to datetime\n",
    "\tdf['datetime'] = pd.to_datetime(df['date'] + ' ' + df['time'], format='%d/%m/%Y %H:%M')\n",
    "\t\n",
    "\treturn df\n",
    "\n",
    "# Load the WhatsApp chat data\n",
    "df = parse_whatsapp_chat(\"whatsapp_chat.txt\")\n",
    "\n",
    "# Filter messages from the year 2025\n",
    "df_2025 = df[df['datetime'].dt.year == 2025]\n",
    "\n",
    "# Filter and save for March 2025\n",
    "march_data = df_2025[df_2025['datetime'].dt.month == 3]\n",
    "march_data.to_csv('march_2025_chats.csv', index=False)\n",
    "print(f\"March 2025 messages: {len(march_data)} saved to march_2025_chats.csv\")\n",
    "\n",
    "# Filter and save for April 2025\n",
    "april_data = df_2025[df_2025['datetime'].dt.month == 4]\n",
    "april_data.to_csv('april_2025_chats.csv', index=False)\n",
    "print(f\"April 2025 messages: {len(april_data)} saved to april_2025_chats.csv\")\n",
    "\n",
    "# Filter and save for May 2025\n",
    "may_data = df_2025[df_2025['datetime'].dt.month == 5]\n",
    "may_data.to_csv('may_2025_chats.csv', index=False)\n",
    "print(f\"May 2025 messages: {len(may_data)} saved to may_2025_chats.csv\")\n",
    "\n",
    "# Summary\n",
    "print(f\"Total messages: {len(df)}\")\n",
    "print(f\"Total 2025 messages: {len(df_2025)}\")\n",
    "\n"
   ]
  }
 ],
 "metadata": {
  "kernelspec": {
   "display_name": "env",
   "language": "python",
   "name": "python3"
  },
  "language_info": {
   "codemirror_mode": {
    "name": "ipython",
    "version": 3
   },
   "file_extension": ".py",
   "mimetype": "text/x-python",
   "name": "python",
   "nbconvert_exporter": "python",
   "pygments_lexer": "ipython3",
   "version": "3.8.0"
  }
 },
 "nbformat": 4,
 "nbformat_minor": 5
}
